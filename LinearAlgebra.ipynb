{
 "cells": [
  {
   "cell_type": "code",
   "execution_count": 2,
   "metadata": {},
   "outputs": [
    {
     "data": {
      "text/plain": [
       "7.1"
      ]
     },
     "execution_count": 2,
     "metadata": {},
     "output_type": "execute_result"
    }
   ],
   "source": [
    "a = 7.1\n",
    "b = 0\n",
    "a + b*2"
   ]
  },
  {
   "cell_type": "code",
   "execution_count": 3,
   "metadata": {},
   "outputs": [
    {
     "name": "stdout",
     "output_type": "stream",
     "text": [
      "1\n",
      "1\n"
     ]
    }
   ],
   "source": [
    "jason = 17\n",
    "print(jason*b + 1)\n",
    "print(jason**b)"
   ]
  },
  {
   "cell_type": "code",
   "execution_count": 4,
   "metadata": {},
   "outputs": [
    {
     "name": "stdout",
     "output_type": "stream",
     "text": [
      "Hello. My name is Jason.\n",
      "I am 46 years old.\n"
     ]
    }
   ],
   "source": [
    "greeting = \"Hello. My name is \"\n",
    "name = \"Jason\"\n",
    "age = 46\n",
    "\n",
    "print(greeting + name + \".\")\n",
    "print(\"I am \" + str(age) + \" years old.\")"
   ]
  },
  {
   "cell_type": "code",
   "execution_count": 5,
   "metadata": {},
   "outputs": [
    {
     "name": "stdout",
     "output_type": "stream",
     "text": [
      "My name is Jason. I am now 46 years old, and in 6 years I'll be 52 years old.\n"
     ]
    }
   ],
   "source": [
    "# assignment 1\n",
    "print(\"My name is \" + name + \". I am now \" + str(age) + \" years old, and in 6 years I'll be \" + str(age + 6) + \" years old.\")"
   ]
  },
  {
   "cell_type": "code",
   "execution_count": 6,
   "metadata": {},
   "outputs": [
    {
     "data": {
      "text/plain": [
       "[1, 2, 3, 4, 5]"
      ]
     },
     "execution_count": 6,
     "metadata": {},
     "output_type": "execute_result"
    }
   ],
   "source": [
    "# Lists\n",
    "numlist = [1, 2, 3, 4, 5]\n",
    "numlist"
   ]
  },
  {
   "cell_type": "code",
   "execution_count": 7,
   "metadata": {},
   "outputs": [
    {
     "data": {
      "text/plain": [
       "5"
      ]
     },
     "execution_count": 7,
     "metadata": {},
     "output_type": "execute_result"
    }
   ],
   "source": [
    "abs(-5)"
   ]
  },
  {
   "cell_type": "code",
   "execution_count": 8,
   "metadata": {},
   "outputs": [
    {
     "ename": "NameError",
     "evalue": "name 'mean' is not defined",
     "output_type": "error",
     "traceback": [
      "\u001b[0;31m---------------------------------------------------------------------------\u001b[0m",
      "\u001b[0;31mNameError\u001b[0m                                 Traceback (most recent call last)",
      "\u001b[0;32m<ipython-input-8-50c4dd75966e>\u001b[0m in \u001b[0;36m<module>\u001b[0;34m\u001b[0m\n\u001b[1;32m      1\u001b[0m \u001b[0;31m# base Python does not have certain functions e.g.\u001b[0m\u001b[0;34m\u001b[0m\u001b[0;34m\u001b[0m\u001b[0;34m\u001b[0m\u001b[0m\n\u001b[1;32m      2\u001b[0m \u001b[0;31m# sqrt(4)\u001b[0m\u001b[0;34m\u001b[0m\u001b[0;34m\u001b[0m\u001b[0;34m\u001b[0m\u001b[0m\n\u001b[0;32m----> 3\u001b[0;31m \u001b[0mmean\u001b[0m\u001b[0;34m(\u001b[0m\u001b[0mnumlist\u001b[0m\u001b[0;34m)\u001b[0m \u001b[0;31m# will both come up as errors\u001b[0m\u001b[0;34m\u001b[0m\u001b[0;34m\u001b[0m\u001b[0m\n\u001b[0m",
      "\u001b[0;31mNameError\u001b[0m: name 'mean' is not defined"
     ]
    }
   ],
   "source": [
    "# base Python does not have certain functions e.g.\n",
    "# sqrt(4)\n",
    "mean(numlist) # will both come up as errors"
   ]
  },
  {
   "cell_type": "code",
   "execution_count": 10,
   "metadata": {},
   "outputs": [
    {
     "data": {
      "text/plain": [
       "3.0"
      ]
     },
     "execution_count": 10,
     "metadata": {},
     "output_type": "execute_result"
    }
   ],
   "source": [
    "# so need to import libraries\n",
    "import numpy as np\n",
    "\n",
    "np.mean(numlist)"
   ]
  },
  {
   "cell_type": "code",
   "execution_count": null,
   "metadata": {},
   "outputs": [],
   "source": [
    "np.sqrt(4)"
   ]
  },
  {
   "cell_type": "code",
   "execution_count": 11,
   "metadata": {},
   "outputs": [
    {
     "data": {
      "text/plain": [
       "array([ 3. ,  4.5,  6. ,  7.5,  9. , 10.5, 12. ])"
      ]
     },
     "execution_count": 11,
     "metadata": {},
     "output_type": "execute_result"
    }
   ],
   "source": [
    "# create numbers between 2 integers, with number of evenly spaced intervals\n",
    "funout = np.linspace(1, 10, 7)\n",
    "funout + 2"
   ]
  },
  {
   "cell_type": "code",
   "execution_count": 12,
   "metadata": {},
   "outputs": [
    {
     "name": "stdout",
     "output_type": "stream",
     "text": [
      "[  4.          10.85714286  17.71428571  24.57142857  31.42857143\n",
      "  38.28571429  45.14285714  52.          58.85714286  65.71428571\n",
      "  72.57142857  79.42857143  86.28571429  93.14285714 100.        ]\n",
      "[ 2.          3.31662479  4.24264069  5.          5.56776436  6.164414\n",
      "  6.70820393  7.21110255  7.68114575  8.1240384   8.54400375  8.88819442\n",
      "  9.2736185   9.64365076 10.        ]\n"
     ]
    },
    {
     "data": {
      "text/plain": [
       "array([  4.,  11.,  18.,  25.,  31.,  38.,  45.,  52.,  59.,  66.,  73.,\n",
       "        79.,  86.,  93., 100.])"
      ]
     },
     "execution_count": 12,
     "metadata": {},
     "output_type": "execute_result"
    }
   ],
   "source": [
    "# assignment 2\n",
    "# a) create a list of 15 numbers from 4 to 100\n",
    "# b) round these numbers to the nearest integer, and store in another variable\n",
    "# c) print out a)\n",
    "# d) print out square root in each number in list\n",
    "four_100 = np.linspace(4, 100, 15)\n",
    "rounded = np.round(four_100, decimals=0)\n",
    "print(four_100)\n",
    "print(np.sqrt(rounded))\n",
    "rounded"
   ]
  },
  {
   "cell_type": "code",
   "execution_count": 14,
   "metadata": {},
   "outputs": [],
   "source": [
    "# Plotting data\n",
    "import matplotlib.pyplot as plt\n",
    "# if numpy not already loaded, also import numpy as np"
   ]
  },
  {
   "cell_type": "code",
   "execution_count": 15,
   "metadata": {},
   "outputs": [
    {
     "data": {
      "text/plain": [
       "[<matplotlib.lines.Line2D at 0x7fae24f39520>]"
      ]
     },
     "execution_count": 15,
     "metadata": {},
     "output_type": "execute_result"
    },
    {
     "data": {
      "image/png": "[encoded data removed]",
      "text/plain": [
       "<Figure size 432x288 with 1 Axes>"
      ]
     },
     "metadata": {
      "needs_background": "light"
     },
     "output_type": "display_data"
    }
   ],
   "source": [
    "plt.plot(1,3, \"m^\") # magenta triangle up marker\n",
    "plt.plot(2,2, \"go\") # green circle marker\n",
    "plt.plot(1,0.5,\"bs\") # blue square marker\n",
    "plt.plot(1.5,1.5,\"kD\") # diamond marker"
   ]
  },
  {
   "cell_type": "code",
   "execution_count": 16,
   "metadata": {},
   "outputs": [
    {
     "name": "stdout",
     "output_type": "stream",
     "text": [
      "[-9 -8 -7 -6 -5 -4 -3 -2 -1  0  1  2  3  4  5  6  7  8  9]\n"
     ]
    }
   ],
   "source": [
    "# specify range of numbers\n",
    "x = np.arange(-9, 10) # -9 up to but not including 10\n",
    "print(x)"
   ]
  },
  {
   "cell_type": "code",
   "execution_count": 17,
   "metadata": {},
   "outputs": [],
   "source": [
    "y = x**2"
   ]
  },
  {
   "cell_type": "code",
   "execution_count": 18,
   "metadata": {},
   "outputs": [
    {
     "data": {
      "text/plain": [
       "[<matplotlib.lines.Line2D at 0x7fae24e936d0>]"
      ]
     },
     "execution_count": 18,
     "metadata": {},
     "output_type": "execute_result"
    },
    {
     "data": {
      "image/png": "[encoded data removed]",
      "text/plain": [
       "<Figure size 432x288 with 1 Axes>"
      ]
     },
     "metadata": {
      "needs_background": "light"
     },
     "output_type": "display_data"
    }
   ],
   "source": [
    "plt.plot(x,y, 'r')\n",
    "plt.plot(x, y/2, \"gs\")"
   ]
  },
  {
   "cell_type": "code",
   "execution_count": 19,
   "metadata": {},
   "outputs": [
    {
     "data": {
      "text/plain": [
       "<matplotlib.legend.Legend at 0x7fae24df5070>"
      ]
     },
     "execution_count": 19,
     "metadata": {},
     "output_type": "execute_result"
    },
    {
     "data": {
      "image/png": "[encoded data removed]",
      "text/plain": [
       "<Figure size 432x288 with 1 Axes>"
      ]
     },
     "metadata": {
      "needs_background": "light"
     },
     "output_type": "display_data"
    }
   ],
   "source": [
    "# plot a straight line, specify x, then y coordinates [x1,x2], [y1,y2]\n",
    "# add optional labels\n",
    "plt.plot([0, 3], [-1, 1], label = \"Blue Line\")\n",
    "plt.plot([-2, 0], [-4, 1], label = \"Yellow Line\")\n",
    "# Display legend\n",
    "plt.legend()"
   ]
  },
  {
   "cell_type": "code",
   "execution_count": 20,
   "metadata": {},
   "outputs": [
    {
     "data": {
      "text/plain": [
       "array([[6, 7, 3, 4, 2],\n",
       "       [8, 5, 5, 0, 4],\n",
       "       [9, 3, 9, 9, 4],\n",
       "       [3, 6, 4, 0, 1]])"
      ]
     },
     "execution_count": 20,
     "metadata": {},
     "output_type": "execute_result"
    }
   ],
   "source": [
    "# visualise images in python, with matrices\n",
    "# create 4x5 matrix with random integers between 0 and 9\n",
    "M = np.random.randint(0,10, size = (4,5))\n",
    "M"
   ]
  },
  {
   "cell_type": "code",
   "execution_count": 21,
   "metadata": {},
   "outputs": [
    {
     "data": {
      "text/plain": [
       "<matplotlib.image.AxesImage at 0x7fae24de6a90>"
      ]
     },
     "execution_count": 21,
     "metadata": {},
     "output_type": "execute_result"
    },
    {
     "data": {
      "image/png": "[encoded data removed]",
      "text/plain": [
       "<Figure size 432x288 with 1 Axes>"
      ]
     },
     "metadata": {
      "needs_background": "light"
     },
     "output_type": "display_data"
    }
   ],
   "source": [
    "# plot matrix as a grid of colours, which represent each value\n",
    "plt.imshow(M)"
   ]
  },
  {
   "cell_type": "code",
   "execution_count": 22,
   "metadata": {},
   "outputs": [
    {
     "data": {
      "text/plain": [
       "[<matplotlib.lines.Line2D at 0x7fae24d5f220>]"
      ]
     },
     "execution_count": 22,
     "metadata": {},
     "output_type": "execute_result"
    },
    {
     "data": {
      "image/png": "[encoded data removed]",
      "text/plain": [
       "<Figure size 432x288 with 1 Axes>"
      ]
     },
     "metadata": {
      "needs_background": "light"
     },
     "output_type": "display_data"
    }
   ],
   "source": [
    "# Assignment 3 - make a red x with lines crossing out the plot of the matrix\n",
    "plt.imshow(M)\n",
    "plt.plot([-0.5, 4.5], [3.5, -0.5], \"r\")\n",
    "plt.plot([-0.5, 4.5], [-0.5, 3.5], \"r\")"
   ]
  },
  {
   "cell_type": "markdown",
   "metadata": {},
   "source": [
    "### Linear Algebra Concepts\n",
    "A Vector is an ordered list of numbers.\n",
    "Dimensionality is the number of elements in a vector\n",
    "```\n",
    "[1 2 3] is not the same as [2 1 3]\n",
    "These are both 3 dimensional vectors\n",
    "```"
   ]
  },
  {
   "cell_type": "markdown",
   "metadata": {},
   "source": [
    "### Vector Scalar Multiplication - Algebra\n",
    "Scalars are individual numbers. To multiply a scalar with a vector, simply multiply the scalar with each element of the vector\n",
    "```\n",
    "7 * [-1, 0, 1] = [-7, 0, 7]\n",
    "```"
   ]
  },
  {
   "cell_type": "markdown",
   "metadata": {},
   "source": [
    "### Vector Scalar Multiplication - Geometry\n",
    "If scalar > 1, vector is stretched a multiple of scalar times\n",
    "if scalar between 0 and 1, is shrunk by the multiple of scalar times\n",
    "if scalar is negative, line is flipped 180 degrees.\n",
    "\n",
    "In all cases, vector is always on the same line"
   ]
  },
  {
   "cell_type": "markdown",
   "metadata": {},
   "source": [
    "### Ordinary python list, just concatenates vector"
   ]
  },
  {
   "cell_type": "code",
   "execution_count": 23,
   "metadata": {},
   "outputs": [
    {
     "data": {
      "text/plain": [
       "[3, 4, 5, 2, 3, 4, 5, 2]"
      ]
     },
     "execution_count": 23,
     "metadata": {},
     "output_type": "execute_result"
    }
   ],
   "source": [
    "vec = [3,4,5,2] # ordinary list\n",
    "s = 2\n",
    "vec * s # [3, 4, 5, 2, 3, 4, 5, 2]"
   ]
  },
  {
   "cell_type": "markdown",
   "metadata": {},
   "source": [
    "### Numpy Array multiplies each number in the vector by the scalar"
   ]
  },
  {
   "cell_type": "code",
   "execution_count": 24,
   "metadata": {},
   "outputs": [
    {
     "data": {
      "text/plain": [
       "array([ 9, 12, 15,  6])"
      ]
     },
     "execution_count": 24,
     "metadata": {},
     "output_type": "execute_result"
    }
   ],
   "source": [
    "vec = np.array([3,4,5,2]) # numpy array\n",
    "s = 3\n",
    "vec * s # array([9, 12, 15, 6])"
   ]
  },
  {
   "cell_type": "code",
   "execution_count": 25,
   "metadata": {},
   "outputs": [],
   "source": [
    "vec2d = np.array([1, 2])\n",
    "s1 = 2\n",
    "s2 = 0.5\n",
    "s3 = -1"
   ]
  },
  {
   "cell_type": "code",
   "execution_count": null,
   "metadata": {},
   "outputs": [],
   "source": [
    "# zero indexing\n",
    "vec2d[0] # 1st element"
   ]
  },
  {
   "cell_type": "code",
   "execution_count": 26,
   "metadata": {},
   "outputs": [
    {
     "data": {
      "image/png": "[encoded data removed]",
      "text/plain": [
       "<Figure size 432x288 with 1 Axes>"
      ]
     },
     "metadata": {
      "needs_background": "light"
     },
     "output_type": "display_data"
    }
   ],
   "source": [
    "plt.plot([0, vec2d[0]], [0, vec2d[1]], \"bs-\", label = \"v\")\n",
    "plt.plot([0, s1*vec2d[0]], [0, s1*vec2d[1]], 'ro-', label = \"v*s1\") # scales v * s1\n",
    "plt.plot([0, s2*vec2d[0]], [0, s2*vec2d[1]], 'kp-', label = \"v*s2\") # scales v * s2\n",
    "plt.plot([0, s3*vec2d[0]], [0, s3*vec2d[1]], 'g*-', label = \"v*s3\") # scales v * s3\n",
    "plt.legend() # displays legend\n",
    "plt.grid() # displays a grid"
   ]
  },
  {
   "cell_type": "code",
   "execution_count": null,
   "metadata": {},
   "outputs": [],
   "source": [
    "# assignment 4\n",
    "# a) create two 2D vectors with random integers\n",
    "# b) plot each vector:\n",
    "# i) v1\n",
    "# ii) v2\n",
    "# iii) v1 + v2\n",
    "# iv) v1 - v2\n",
    "# v) v1*4 + v2/2"
   ]
  },
  {
   "cell_type": "markdown",
   "metadata": {},
   "source": [
    "#### Create 2 2D vectors with random integers"
   ]
  },
  {
   "cell_type": "code",
   "execution_count": 40,
   "metadata": {},
   "outputs": [
    {
     "name": "stdout",
     "output_type": "stream",
     "text": [
      "[[2]\n",
      " [0]]\n",
      "[[-2]\n",
      " [ 3]]\n"
     ]
    }
   ],
   "source": [
    "v1 = np.random.randint(-4, 5, size = (2,1))\n",
    "v2 = np.random.randint(-4, 5, size = (2,1))\n",
    "print(v1)\n",
    "print(v2)"
   ]
  },
  {
   "cell_type": "markdown",
   "metadata": {},
   "source": [
    "#### Plot each vector (v1 with v2)"
   ]
  },
  {
   "cell_type": "code",
   "execution_count": 53,
   "metadata": {},
   "outputs": [
    {
     "data": {
      "image/png": "[encoded data removed]",
      "text/plain": [
       "<Figure size 432x288 with 1 Axes>"
      ]
     },
     "metadata": {
      "needs_background": "light"
     },
     "output_type": "display_data"
    }
   ],
   "source": [
    "plt.plot([0, v1[0]], [0, v1[1]], \"ro-\", label = \"v1\")\n",
    "plt.plot([0, v2[0]], [0, v2[1]], \"bs-\", label = \"v2\")\n",
    "plt.legend()\n",
    "plt.grid()\n",
    "plt.show()"
   ]
  },
  {
   "cell_type": "markdown",
   "metadata": {},
   "source": [
    "#### v1 + v2"
   ]
  },
  {
   "cell_type": "code",
   "execution_count": 54,
   "metadata": {},
   "outputs": [
    {
     "data": {
      "image/png": "[encoded data removed]",
      "text/plain": [
       "<Figure size 432x288 with 1 Axes>"
      ]
     },
     "metadata": {
      "needs_background": "light"
     },
     "output_type": "display_data"
    }
   ],
   "source": [
    "v1v2add = v1 + v2\n",
    "plt.plot([0, v1[0]], [0, v1[1]], \"ro-\", label = \"v1\")\n",
    "plt.plot([0, v2[0]], [0, v2[1]], \"bs-\", label = \"v2\")\n",
    "plt.plot([v2[0], v1v2add[0]], [v2[1], v1v2add[1]], \"gv-\", label = \"v1+v2\")\n",
    "plt.legend()\n",
    "plt.grid()\n",
    "plt.show()"
   ]
  },
  {
   "cell_type": "markdown",
   "metadata": {},
   "source": [
    "#### v1 - v2"
   ]
  },
  {
   "cell_type": "code",
   "execution_count": 55,
   "metadata": {},
   "outputs": [
    {
     "data": {
      "image/png": "[encoded data removed]",
      "text/plain": [
       "<Figure size 432x288 with 1 Axes>"
      ]
     },
     "metadata": {
      "needs_background": "light"
     },
     "output_type": "display_data"
    }
   ],
   "source": [
    "v1v2sub = v1 - v2\n",
    "plt.plot([0, v1[0]], [0, v1[1]], \"ro-\", label = \"v1\")\n",
    "plt.plot([0, v2[0]], [0, v2[1]], \"bs-\", label = \"v2\")\n",
    "plt.plot([0, v1v2sub[0]], [0, v1v2sub[1]], \"mD-\", label = \"v1-v2\")\n",
    "plt.legend()\n",
    "plt.grid()\n",
    "plt.show()"
   ]
  },
  {
   "cell_type": "markdown",
   "metadata": {},
   "source": [
    "#### (v1*4) + (v2 / 2)"
   ]
  },
  {
   "cell_type": "code",
   "execution_count": 56,
   "metadata": {},
   "outputs": [
    {
     "data": {
      "image/png": "[encoded data removed]",
      "text/plain": [
       "<Figure size 432x288 with 1 Axes>"
      ]
     },
     "metadata": {
      "needs_background": "light"
     },
     "output_type": "display_data"
    }
   ],
   "source": [
    "v1v2comb = (v1 * 4) + (v2 / 2)\n",
    "plt.plot([0, v1[0]], [0, v1[1]], \"ro-\", label = \"v1\")\n",
    "plt.plot([0, v2[0]], [0, v2[1]], \"bs-\", label = \"v2\")\n",
    "plt.plot([0, v1v2comb[0]], [0, v1v2comb[1]], \"k*-\", label = \"(v1 * 4) + (v2 / 2)\")\n",
    "plt.legend()\n",
    "plt.grid()\n",
    "plt.show()"
   ]
  },
  {
   "cell_type": "code",
   "execution_count": null,
   "metadata": {},
   "outputs": [],
   "source": []
  }
 ],
 "metadata": {
  "kernelspec": {
   "display_name": "Python 3",
   "language": "python",
   "name": "python3"
  },
  "language_info": {
   "codemirror_mode": {
    "name": "ipython",
    "version": 3
   },
   "file_extension": ".py",
   "mimetype": "text/x-python",
   "name": "python",
   "nbconvert_exporter": "python",
   "pygments_lexer": "ipython3",
   "version": "3.9.0"
  }
 },
 "nbformat": 4,
 "nbformat_minor": 4
}
