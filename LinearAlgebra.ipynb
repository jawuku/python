
{
 "cells": [
  {
   "cell_type": "code",
   "execution_count": 2,
   "metadata": {},
   "outputs": [
    {
     "data": {
      "text/plain": [
       "7.1"
      ]
     },
     "execution_count": 2,
     "metadata": {},
     "output_type": "execute_result"
    }
   ],
   "source": [
    "a = 7.1\n",
    "b = 0\n",
    "a + b*2"
   ]
  },
  {
   "cell_type": "code",
   "execution_count": 3,
   "metadata": {},
   "outputs": [
    {
     "name": "stdout",
     "output_type": "stream",
     "text": [
      "1\n",
      "1\n"
     ]
    }
   ],
   "source": [
    "jason = 17\n",
    "print(jason*b + 1)\n",
    "print(jason**b)"
   ]
  },
  {
   "cell_type": "code",
   "execution_count": 4,
   "metadata": {},
   "outputs": [
    {
     "name": "stdout",
     "output_type": "stream",
     "text": [
      "Hello. My name is Jason.\n",
      "I am 46 years old.\n"
     ]
    }
   ],
   "source": [
    "greeting = \"Hello. My name is \"\n",
    "name = \"Jason\"\n",
    "age = 46\n",
    "\n",
    "print(greeting + name + \".\")\n",
    "print(\"I am \" + str(age) + \" years old.\")"
   ]
  },
  {
   "cell_type": "code",
   "execution_count": 5,
   "metadata": {},
   "outputs": [
    {
     "name": "stdout",
     "output_type": "stream",
     "text": [
      "My name is Jason. I am now 46 years old, and in 6 years I'll be 52 years old.\n"
     ]
    }
   ],
   "source": [
    "# assignment 1\n",
    "print(\"My name is \" + name + \". I am now \" + str(age) + \" years old, and in 6 years I'll be \" + str(age + 6) + \" years old.\")"
   ]
  },
  {
   "cell_type": "code",
   "execution_count": 6,
   "metadata": {},
   "outputs": [
    {
     "data": {
      "text/plain": [
       "[1, 2, 3, 4, 5]"
      ]
     },
     "execution_count": 6,
     "metadata": {},
     "output_type": "execute_result"
    }
   ],
   "source": [
    "# Lists\n",
    "numlist = [1, 2, 3, 4, 5]\n",
    "numlist"
   ]
  },
  {
   "cell_type": "code",
   "execution_count": 7,
   "metadata": {},
   "outputs": [
    {
     "data": {
      "text/plain": [
       "5"
      ]
     },
     "execution_count": 7,
     "metadata": {},
     "output_type": "execute_result"
    }
   ],
   "source": [
    "abs(-5)"
   ]
  },
  {
   "cell_type": "code",
   "execution_count": 8,
   "metadata": {},
   "outputs": [
    {
     "ename": "NameError",
     "evalue": "name 'mean' is not defined",
     "output_type": "error",
     "traceback": [
      "\u001b[0;31m---------------------------------------------------------------------------\u001b[0m",
      "\u001b[0;31mNameError\u001b[0m                                 Traceback (most recent call last)",
      "\u001b[0;32m<ipython-input-8-50c4dd75966e>\u001b[0m in \u001b[0;36m<module>\u001b[0;34m\u001b[0m\n\u001b[1;32m      1\u001b[0m \u001b[0;31m# base Python does not have certain functions e.g.\u001b[0m\u001b[0;34m\u001b[0m\u001b[0;34m\u001b[0m\u001b[0;34m\u001b[0m\u001b[0m\n\u001b[1;32m      2\u001b[0m \u001b[0;31m# sqrt(4)\u001b[0m\u001b[0;34m\u001b[0m\u001b[0;34m\u001b[0m\u001b[0;34m\u001b[0m\u001b[0m\n\u001b[0;32m----> 3\u001b[0;31m \u001b[0mmean\u001b[0m\u001b[0;34m(\u001b[0m\u001b[0mnumlist\u001b[0m\u001b[0;34m)\u001b[0m \u001b[0;31m# will both come up as errors\u001b[0m\u001b[0;34m\u001b[0m\u001b[0;34m\u001b[0m\u001b[0m\n\u001b[0m",
      "\u001b[0;31mNameError\u001b[0m: name 'mean' is not defined"
     ]
    }
   ],
   "source": [
    "# base Python does not have certain functions e.g.\n",
    "# sqrt(4)\n",
    "mean(numlist) # will both come up as errors"
   ]
  },
  {
   "cell_type": "code",
   "execution_count": 10,
   "metadata": {},
   "outputs": [
    {
     "data": {
      "text/plain": [
       "3.0"
      ]
     },
     "execution_count": 10,
     "metadata": {},
     "output_type": "execute_result"
    }
   ],
   "source": [
    "# so need to import libraries\n",
    "import numpy as np\n",
    "\n",
    "np.mean(numlist)"
   ]
  },
  {
   "cell_type": "code",
   "execution_count": 11,
   "metadata": {},
   "outputs": [
    {
     "data": {
      "text/plain": [
       "2.0"
      ]
     },
     "execution_count": 11,
     "metadata": {},
     "output_type": "execute_result"
    }
   ],
   "source": [
    "np.sqrt(4)"
   ]
  },
  {
   "cell_type": "code",
   "execution_count": 12,
   "metadata": {},
   "outputs": [
    {
     "data": {
      "text/plain": [
       "array([ 3. ,  4.5,  6. ,  7.5,  9. , 10.5, 12. ])"
      ]
     },
     "execution_count": 12,
     "metadata": {},
     "output_type": "execute_result"
    }
   ],
   "source": [
    "# create numbers between 2 integers, with number of evenly spaced intervals\n",
    "funout = np.linspace(1, 10, 7)\n",
    "funout + 2"
   ]
  },
  {
   "cell_type": "code",
   "execution_count": 13,
   "metadata": {},
   "outputs": [
    {
     "name": "stdout",
     "output_type": "stream",
     "text": [
      "[  4.          10.85714286  17.71428571  24.57142857  31.42857143\n",
      "  38.28571429  45.14285714  52.          58.85714286  65.71428571\n",
      "  72.57142857  79.42857143  86.28571429  93.14285714 100.        ]\n",
      "[ 2.          3.31662479  4.24264069  5.          5.56776436  6.164414\n",
      "  6.70820393  7.21110255  7.68114575  8.1240384   8.54400375  8.88819442\n",
      "  9.2736185   9.64365076 10.        ]\n"
     ]
    },
    {
     "data": {
      "text/plain": [
       "array([  4.,  11.,  18.,  25.,  31.,  38.,  45.,  52.,  59.,  66.,  73.,\n",
       "        79.,  86.,  93., 100.])"
      ]
     },
     "execution_count": 13,
     "metadata": {},
     "output_type": "execute_result"
    }
   ],
   "source": [
    "# assignment 2\n",
    "# a) create a list of 15 numbers from 4 to 100\n",
    "# b) round these numbers to the nearest integer, and store in another variable\n",
    "# c) print out a)\n",
    "# d) print out square root in each number in list\n",
    "four_100 = np.linspace(4, 100, 15)\n",
    "rounded = np.round(four_100, decimals=0)\n",
    "print(four_100)\n",
    "print(np.sqrt(rounded))\n",
    "rounded"
   ]
  },
  {
   "cell_type": "code",
   "execution_count": 14,
   "metadata": {},
   "outputs": [],
   "source": [
    "# Plotting data\n",
    "import matplotlib.pyplot as plt\n",
    "# if numpy not already loaded, also import numpy as np"
   ]
  },
  {
   "cell_type": "code",
   "execution_count": 15,
   "metadata": {},
   "outputs": [
    {
     "data": {
      "text/plain": [
       "[<matplotlib.lines.Line2D at 0x7ff1fc2a1d90>]"
      ]
     },
     "execution_count": 15,
     "metadata": {},
     "output_type": "execute_result"
    },
    {
     "data": {
      "image/png": "[encoded data removed]",
      "text/plain": [
       "<Figure size 432x288 with 1 Axes>"
      ]
     },
     "metadata": {
      "needs_background": "light"
     },
     "output_type": "display_data"
    }
   ],
   "source": [
    "plt.plot(1,3, \"m^\") # magenta triangle up marker\n",
    "plt.plot(2,2, \"go\") # green circle marker\n",
    "plt.plot(1,0.5,\"bs\") # blue square marker\n",
    "plt.plot(1.5,1.5,\"kD\") # diamond marker"
   ]
  },
  {
   "cell_type": "code",
   "execution_count": 16,
   "metadata": {},
   "outputs": [
    {
     "name": "stdout",
     "output_type": "stream",
     "text": [
      "[-9 -8 -7 -6 -5 -4 -3 -2 -1  0  1  2  3  4  5  6  7  8  9]\n"
     ]
    }
   ],
   "source": [
    "# specify range of numbers\n",
    "x = np.arange(-9, 10) # -9 up to but not including 10\n",
    "print(x)"
   ]
  },
  {
   "cell_type": "code",
   "execution_count": 17,
   "metadata": {},
   "outputs": [],
   "source": [
    "y = x**2"
   ]
  },
  {
   "cell_type": "code",
   "execution_count": 18,
   "metadata": {},
   "outputs": [
    {
     "data": {
      "text/plain": [
       "[<matplotlib.lines.Line2D at 0x7ff1fc200ee0>]"
      ]
     },
     "execution_count": 18,
     "metadata": {},
     "output_type": "execute_result"
    },
    {
     "data": {
      "image/png": "[encoded data removed]",
      "text/plain": [
       "<Figure size 432x288 with 1 Axes>"
      ]
     },
     "metadata": {
      "needs_background": "light"
     },
     "output_type": "display_data"
    }
   ],
   "source": [
    "plt.plot(x,y, 'r')\n",
    "plt.plot(x, y/2, \"gs\")"
   ]
  },
  {
   "cell_type": "code",
   "execution_count": 19,
   "metadata": {},
   "outputs": [
    {
     "data": {
      "text/plain": [
       "<matplotlib.legend.Legend at 0x7ff1fc16f7f0>"
      ]
     },
     "execution_count": 19,
     "metadata": {},
     "output_type": "execute_result"
    },
    {
     "data": {
      "image/png": "[encoded data removed]",
      "text/plain": [
       "<Figure size 432x288 with 1 Axes>"
      ]
     },
     "metadata": {
      "needs_background": "light"
     },
     "output_type": "display_data"
    }
   ],
   "source": [
    "# plot a straight line, specify x, then y coordinates [x1,x2], [y1,y2]\n",
    "# add optional labels\n",
    "plt.plot([0, 3], [-1, 1], label = \"Blue Line\")\n",
    "plt.plot([-2, 0], [-4, 1], label = \"Yellow Line\")\n",
    "# Display legend\n",
    "plt.legend()"
   ]
  },
  {
   "cell_type": "code",
   "execution_count": 20,
   "metadata": {},
   "outputs": [
    {
     "data": {
      "text/plain": [
       "array([[3, 3, 1, 7, 9],\n",
       "       [4, 8, 4, 2, 9],\n",
       "       [2, 4, 4, 8, 9],\n",
       "       [4, 6, 7, 8, 8]])"
      ]
     },
     "execution_count": 20,
     "metadata": {},
     "output_type": "execute_result"
    }
   ],
   "source": [
    "# visualise images in python, with matrices\n",
    "# create 4x5 matrix with random integers between 0 and 9\n",
    "M = np.random.randint(0,10, size = (4,5))\n",
    "M"
   ]
  },
  {
   "cell_type": "code",
   "execution_count": 21,
   "metadata": {},
   "outputs": [
    {
     "data": {
      "text/plain": [
       "<matplotlib.image.AxesImage at 0x7ff1fc0e22e0>"
      ]
     },
     "execution_count": 21,
     "metadata": {},
     "output_type": "execute_result"
    },
    {
     "data": {
      "image/png": "[encoded data removed]",
      "text/plain": [
       "<Figure size 432x288 with 1 Axes>"
      ]
     },
     "metadata": {
      "needs_background": "light"
     },
     "output_type": "display_data"
    }
   ],
   "source": [
    "# plot matrix as a grid of colours, which represent each value\n",
    "plt.imshow(M)"
   ]
  },
  {
   "cell_type": "code",
   "execution_count": 22,
   "metadata": {},
   "outputs": [
    {
     "data": {
      "text/plain": [
       "[<matplotlib.lines.Line2D at 0x7ff1fc0cda30>]"
      ]
     },
     "execution_count": 22,
     "metadata": {},
     "output_type": "execute_result"
    },
    {
     "data": {
      "image/png": "[encoded data removed]",
      "text/plain": [
       "<Figure size 432x288 with 1 Axes>"
      ]
     },
     "metadata": {
      "needs_background": "light"
     },
     "output_type": "display_data"
    }
   ],
   "source": [
    "# Assignment 3 - make a red x with lines crossing out the plot of the matrix\n",
    "plt.imshow(M)\n",
    "plt.plot([-0.5, 4.5], [3.5, -0.5], \"r\")\n",
    "plt.plot([-0.5, 4.5], [-0.5, 3.5], \"r\")"
   ]
  },
  {
   "cell_type": "markdown",
   "metadata": {},
   "source": [
    "### Linear Algebra Concepts\n",
    "A Vector is an ordered list of numbers.\n",
    "Dimensionality is the number of elements in a vector\n",
    "```\n",
    "[1 2 3] is not the same as [2 1 3]\n",
    "These are both 3 dimensional vectors\n",
    "```"
   ]
  },
  {
   "cell_type": "markdown",
   "metadata": {},
   "source": [
    "### Vector Scalar Multiplication - Algebra\n",
    "Scalars are individual numbers. To multiply a scalar with a vector, simply multiply the scalar with each element of the vector\n",
    "```\n",
    "7 * [-1, 0, 1] = [-7, 0, 7]\n",
    "```"
   ]
  },
  {
   "cell_type": "markdown",
   "metadata": {},
   "source": [
    "### Vector Scalar Multiplication - Geometry\n",
    "If scalar > 1, vector is stretched a multiple of scalar times\n",
    "if scalar between 0 and 1, is shrunk by the multiple of scalar times\n",
    "if scalar is negative, line is flipped 180 degrees.\n",
    "\n",
    "In all cases, vector is always on the same line"
   ]
  },
  {
   "cell_type": "markdown",
   "metadata": {},
   "source": [
    "### Ordinary python list, just concatenates vector"
   ]
  },
  {
   "cell_type": "code",
   "execution_count": 23,
   "metadata": {},
   "outputs": [
    {
     "data": {
      "text/plain": [
       "[3, 4, 5, 2, 3, 4, 5, 2]"
      ]
     },
     "execution_count": 23,
     "metadata": {},
     "output_type": "execute_result"
    }
   ],
   "source": [
    "vec = [3,4,5,2] # ordinary list\n",
    "s = 2\n",
    "vec * s # [3, 4, 5, 2, 3, 4, 5, 2]"
   ]
  },
  {
   "cell_type": "markdown",
   "metadata": {},
   "source": [
    "### Numpy Array multiplies each number in the vector by the scalar"
   ]
  },
  {
   "cell_type": "code",
   "execution_count": 24,
   "metadata": {},
   "outputs": [
    {
     "data": {
      "text/plain": [
       "array([ 9, 12, 15,  6])"
      ]
     },
     "execution_count": 24,
     "metadata": {},
     "output_type": "execute_result"
    }
   ],
   "source": [
    "vec = np.array([3,4,5,2]) # numpy array\n",
    "s = 3\n",
    "vec * s # array([9, 12, 15, 6])"
   ]
  },
  {
   "cell_type": "code",
   "execution_count": 25,
   "metadata": {},
   "outputs": [],
   "source": [
    "vec2d = np.array([1, 2])\n",
    "s1 = 2\n",
    "s2 = 0.5\n",
    "s3 = -1"
   ]
  },
  {
   "cell_type": "code",
   "execution_count": 26,
   "metadata": {},
   "outputs": [
    {
     "data": {
      "text/plain": [
       "1"
      ]
     },
     "execution_count": 26,
     "metadata": {},
     "output_type": "execute_result"
    }
   ],
   "source": [
    "# zero indexing\n",
    "vec2d[0] # 1st element"
   ]
  },
  {
   "cell_type": "code",
   "execution_count": 27,
   "metadata": {},
   "outputs": [
    {
     "data": {
      "image/png": "[encoded data removed]",
      "text/plain": [
       "<Figure size 432x288 with 1 Axes>"
      ]
     },
     "metadata": {
      "needs_background": "light"
     },
     "output_type": "display_data"
    }
   ],
   "source": [
    "plt.plot([0, vec2d[0]], [0, vec2d[1]], \"bs-\", label = \"v\")\n",
    "plt.plot([0, s1*vec2d[0]], [0, s1*vec2d[1]], 'ro-', label = \"v*s1\") # scales v * s1\n",
    "plt.plot([0, s2*vec2d[0]], [0, s2*vec2d[1]], 'kp-', label = \"v*s2\") # scales v * s2\n",
    "plt.plot([0, s3*vec2d[0]], [0, s3*vec2d[1]], 'g*-', label = \"v*s3\") # scales v * s3\n",
    "plt.legend() # displays legend\n",
    "plt.grid() # displays a grid"
   ]
  },
  {
   "cell_type": "code",
   "execution_count": null,
   "metadata": {},
   "outputs": [],
   "source": [
    "# assignment 4\n",
    "# a) create two 2D vectors with random integers\n",
    "# b) plot each vector:\n",
    "# i) v1\n",
    "# ii) v2\n",
    "# iii) v1 + v2\n",
    "# iv) v1 - v2\n",
    "# v) v1*4 + v2/2"
   ]
  },
  {
   "cell_type": "markdown",
   "metadata": {},
   "source": [
    "#### Create 2 2D vectors with random integers"
   ]
  },
  {
   "cell_type": "code",
   "execution_count": 52,
   "metadata": {},
   "outputs": [
    {
     "name": "stdout",
     "output_type": "stream",
     "text": [
      "[[1]\n",
      " [3]]\n",
      "[[ 0]\n",
      " [-1]]\n"
     ]
    }
   ],
   "source": [
    "v1 = np.random.randint(-4, 5, size = (2,1))\n",
    "v2 = np.random.randint(-4, 5, size = (2,1))\n",
    "print(v1)\n",
    "print(v2)"
   ]
  },
  {
   "cell_type": "markdown",
   "metadata": {},
   "source": [
    "#### Plot each vector (v1 with v2)"
   ]
  },
  {
   "cell_type": "code",
   "execution_count": 53,
   "metadata": {},
   "outputs": [
    {
     "data": {
      "image/png": "[encoded data removed]",
      "text/plain": [
       "<Figure size 432x288 with 1 Axes>"
      ]
     },
     "metadata": {
      "needs_background": "light"
     },
     "output_type": "display_data"
    }
   ],
   "source": [
    "plt.plot([0, v1[0]], [0, v1[1]], \"ro-\", label = \"v1\")\n",
    "plt.plot([0, v2[0]], [0, v2[1]], \"bs-\", label = \"v2\")\n",
    "plt.legend()\n",
    "plt.grid()\n",
    "plt.show()"
   ]
  },
  {
   "cell_type": "markdown",
   "metadata": {},
   "source": [
    "#### v1 + v2"
   ]
  },
  {
   "cell_type": "code",
   "execution_count": 31,
   "metadata": {},
   "outputs": [
    {
     "data": {
      "image/png": "[encoded data removed]",
      "text/plain": [
       "<Figure size 432x288 with 1 Axes>"
      ]
     },
     "metadata": {
      "needs_background": "light"
     },
     "output_type": "display_data"
    }
   ],
   "source": [
    "v1v2add = v1 + v2\n",
    "plt.plot([0, v1[0]], [0, v1[1]], \"ro-\", label = \"v1\")\n",
    "plt.plot([0, v2[0]], [0, v2[1]], \"bs-\", label = \"v2\")\n",
    "plt.plot([v2[0], v1v2add[0]], [v2[1], v1v2add[1]], \"gv-\", label = \"v1+v2\")\n",
    "plt.legend()\n",
    "plt.grid()\n",
    "plt.show()"
   ]
  },
  {
   "cell_type": "markdown",
   "metadata": {},
   "source": [
    "#### v1 - v2"
   ]
  },
  {
   "cell_type": "code",
   "execution_count": 32,
   "metadata": {},
   "outputs": [
    {
     "data": {
      "image/png": "[encoded data removed]",
      "text/plain": [
       "<Figure size 432x288 with 1 Axes>"
      ]
     },
     "metadata": {
      "needs_background": "light"
     },
     "output_type": "display_data"
    }
   ],
   "source": [
    "v1v2sub = v1 - v2\n",
    "plt.plot([0, v1[0]], [0, v1[1]], \"ro-\", label = \"v1\")\n",
    "plt.plot([0, v2[0]], [0, v2[1]], \"bs-\", label = \"v2\")\n",
    "plt.plot([0, v1v2sub[0]], [0, v1v2sub[1]], \"mD-\", label = \"v1-v2\")\n",
    "plt.legend()\n",
    "plt.grid()\n",
    "plt.show()"
   ]
  },
  {
   "cell_type": "markdown",
   "metadata": {},
   "source": [
    "#### (v1*4) + (v2 / 2)"
   ]
  },
  {
   "cell_type": "code",
   "execution_count": null,
   "metadata": {},
   "outputs": [],
   "source": [
    "v1v2comb = (v1 * 4) + (v2 / 2)\n",
    "plt.plot([0, v1[0]], [0, v1[1]], \"ro-\", label = \"v1\")\n",
    "plt.plot([0, v2[0]], [0, v2[1]], \"bs-\", label = \"v2\")\n",
    "plt.plot([0, v1v2comb[0]], [0, v1v2comb[1]], \"k*-\", label = \"(v1 * 4) + (v2 / 2)\")\n",
    "plt.legend()\n",
    "plt.grid()\n",
    "plt.show()"
   ]
  },
  {
   "cell_type": "markdown",
   "metadata": {},
   "source": [
    "### Dot Product\n",
    "#### a.b = a<sup>T</sup>b\n",
    "##### multiply the respective elements of two vectors together, and add the results"
   ]
  },
  {
   "cell_type": "markdown",
   "metadata": {},
   "source": [
    "```\n",
    "v = [1 0 2 5 -2];     w = [2 8 -6 1 0];\n",
    "Dot product = (1 * 2) + (0 * 8) + (2 * -6) + (5 * 1) + (-2 * 0) = -5\n",
    "```"
   ]
  },
  {
   "cell_type": "code",
   "execution_count": 33,
   "metadata": {},
   "outputs": [],
   "source": [
    "v1 = np.array([5, 6, 2])\n",
    "v2 = np.array([3, 0, 5])\n",
    "v3 = np.array([-4,3, 1])"
   ]
  },
  {
   "cell_type": "code",
   "execution_count": 34,
   "metadata": {},
   "outputs": [
    {
     "data": {
      "text/plain": [
       "25"
      ]
     },
     "execution_count": 34,
     "metadata": {},
     "output_type": "execute_result"
    }
   ],
   "source": [
    "# Dot product\n",
    "np.dot(v1, v2)"
   ]
  },
  {
   "cell_type": "code",
   "execution_count": 35,
   "metadata": {},
   "outputs": [
    {
     "data": {
      "text/plain": [
       "-7"
      ]
     },
     "execution_count": 35,
     "metadata": {},
     "output_type": "execute_result"
    }
   ],
   "source": [
    "np.dot(v2, v3)"
   ]
  },
  {
   "cell_type": "markdown",
   "metadata": {},
   "source": [
    "#### 'Zeros vector' - vector of all zeros.\n",
    "#### Dot product with such a vector will result in zero"
   ]
  },
  {
   "cell_type": "code",
   "execution_count": 36,
   "metadata": {},
   "outputs": [
    {
     "data": {
      "text/plain": [
       "0"
      ]
     },
     "execution_count": 36,
     "metadata": {},
     "output_type": "execute_result"
    }
   ],
   "source": [
    "v4 = np.array([0, 0, 0])\n",
    "np.dot(v1 ,v4)"
   ]
  },
  {
   "cell_type": "markdown",
   "metadata": {},
   "source": [
    "#### Orthogonality - where non-zero vectors have a zero dot product. This implies a right angle between the vectors"
   ]
  },
  {
   "cell_type": "code",
   "execution_count": 39,
   "metadata": {},
   "outputs": [
    {
     "data": {
      "text/plain": [
       "0"
      ]
     },
     "execution_count": 39,
     "metadata": {},
     "output_type": "execute_result"
    }
   ],
   "source": [
    "v5 = np.array([2, 3, -1])\n",
    "\n",
    "np.dot(v3, v5)"
   ]
  },
  {
   "cell_type": "code",
   "execution_count": 40,
   "metadata": {},
   "outputs": [],
   "source": [
    "# assignment 5\n",
    "# Come up with 3 2D vectors. 2 moust be orthogonal. The third should not be orthogonal to the other 2.\n",
    "# Plot all 3 vectors on a 2D graph. Make sure the x and y axes are square and equal."
   ]
  },
  {
   "cell_type": "code",
   "execution_count": 41,
   "metadata": {},
   "outputs": [],
   "source": [
    "# Define vectors\n",
    "v1 = np.array([2, 1])\n",
    "v2 = np.array([-1, 2])\n",
    "v3 = np.array([-1, -3])"
   ]
  },
  {
   "cell_type": "code",
   "execution_count": 43,
   "metadata": {},
   "outputs": [
    {
     "name": "stdout",
     "output_type": "stream",
     "text": [
      "Dot Product of vectors v1 and v2 is 0, so is orthogonal.\n",
      "Dot Product of v1 and v3 is -5\n",
      "Dot Product of v2 and v3 is -5\n"
     ]
    }
   ],
   "source": [
    "# Calculate Dot products between the three vectors\n",
    "dpv1_v2 = np.dot(v1, v2)\n",
    "print(\"Dot Product of vectors v1 and v2 is {}, so is orthogonal.\".format(dpv1_v2))\n",
    "dpv1_v3 = np.dot(v1, v3)\n",
    "dpv2_v3 = np.dot(v2, v3)\n",
    "print(\"Dot Product of v1 and v3 is {}\".format(dpv1_v3))\n",
    "print(\"Dot Product of v2 and v3 is {}\".format(dpv2_v3))"
   ]
  },
  {
   "cell_type": "code",
   "execution_count": 45,
   "metadata": {},
   "outputs": [
    {
     "data": {
      "image/png": "[encoded data removed]",
      "text/plain": [
       "<Figure size 432x288 with 1 Axes>"
      ]
     },
     "metadata": {
      "needs_background": "light"
     },
     "output_type": "display_data"
    }
   ],
   "source": [
    "# plot vectors on graph\n",
    "import matplotlib.pyplot as plt\n",
    "\n",
    "plt.plot([0, v1[0]], [0,v1[1]], \"o-\", label = \"v1\")\n",
    "plt.plot([0, v2[0]], [0,v2[1]], \"mD-\", label = \"v2\")\n",
    "plt.plot([0, v3[0]], [0,v3[1]], \"gs-\", label = \"v3\")\n",
    "plt.xlim(-4, 4)\n",
    "plt.ylim(-4, 4)\n",
    "plt.legend()\n",
    "plt.grid()\n",
    "plt.show()"
   ]
  },
  {
   "cell_type": "markdown",
   "metadata": {},
   "source": [
    "### Matrices\n",
    "#### Collection of values, arranged in rows and columns"
   ]
  },
  {
   "cell_type": "markdown",
   "metadata": {},
   "source": [
    "```\n",
    "[3 5 1]\n",
    "|0 6 2|  4x3 matrix (4 rows, 3 columns)\n",
    "|4 8 9]\n",
    "[1 0 3]\n",
    "```"
   ]
  },
  {
   "cell_type": "markdown",
   "metadata": {},
   "source": [
    "#### Diagonal\n",
    "all numbers that start from top left entry, and go one down, one to the right"
   ]
  },
  {
   "cell_type": "markdown",
   "metadata": {},
   "source": [
    "```\n",
    "[<23> -362 3282]\n",
    "[ 0   <-6> 4576|  \n",
    "[-236 17.4 <81>]\n",
    "```"
   ]
  },
  {
   "cell_type": "markdown",
   "metadata": {},
   "source": [
    "#### Off-Diagonal\n",
    "all numbers which are not diagonal"
   ]
  },
  {
   "cell_type": "markdown",
   "metadata": {},
   "source": [
    "#### Square matrices - where number of rows = number of columns.\n",
    "diagonals run from corner to corner, like matrix above"
   ]
  },
  {
   "cell_type": "markdown",
   "metadata": {},
   "source": [
    "### Types of Matrices"
   ]
  },
  {
   "cell_type": "markdown",
   "metadata": {},
   "source": [
    "#### Symmetrical\n",
    "Square matrices where all elements above the diagonal line are mirrored by the numbers below the line"
   ]
  },
  {
   "cell_type": "markdown",
   "metadata": {},
   "source": [
    "```\n",
    "[1  -1  0]\n",
    "|-1  2  4|\n",
    "[0  -4  5]\n",
    "```"
   ]
  },
  {
   "cell_type": "markdown",
   "metadata": {},
   "source": [
    "#### Diagonal\n",
    "All of the off-diagonals are zero, whereas all the diagonals can be zero or non-zero."
   ]
  },
  {
   "cell_type": "markdown",
   "metadata": {},
   "source": [
    "```\n",
    "[4 0 0 0]\n",
    "|0 0 0 0|\n",
    "[0 0 9 0]\n",
    "```"
   ]
  },
  {
   "cell_type": "markdown",
   "metadata": {},
   "source": [
    "#### Identity\n",
    "Special form of diagonal matrix.\n",
    "Diagonals are all 1. Off-diagonals are all zero."
   ]
  },
  {
   "cell_type": "markdown",
   "metadata": {},
   "source": [
    "```\n",
    "[1 0 0]\n",
    "|0 1 0|\n",
    "|0 0 1|\n",
    "[0 0 0]\n",
    "```"
   ]
  },
  {
   "cell_type": "markdown",
   "metadata": {},
   "source": [
    "#### Zeros Matrix\n",
    "Where all elements are zero."
   ]
  },
  {
   "cell_type": "markdown",
   "metadata": {},
   "source": [
    "```\n",
    "[0 0]\n",
    "[0 0]\n",
    "```"
   ]
  },
  {
   "cell_type": "markdown",
   "metadata": {},
   "source": [
    "### Python Code for Matrices"
   ]
  },
  {
   "cell_type": "code",
   "execution_count": 48,
   "metadata": {},
   "outputs": [
    {
     "data": {
      "text/plain": [
       "array([[1., 0., 0.],\n",
       "       [0., 1., 0.],\n",
       "       [0., 0., 1.]])"
      ]
     },
     "execution_count": 48,
     "metadata": {},
     "output_type": "execute_result"
    }
   ],
   "source": [
    "# identity matrix\n",
    "np.eye(3)"
   ]
  },
  {
   "cell_type": "code",
   "execution_count": 50,
   "metadata": {},
   "outputs": [
    {
     "data": {
      "text/plain": [
       "array([[0., 0., 0., 0.],\n",
       "       [0., 0., 0., 0.],\n",
       "       [0., 0., 0., 0.]])"
      ]
     },
     "execution_count": 50,
     "metadata": {},
     "output_type": "execute_result"
    }
   ],
   "source": [
    "# zeros matrix\n",
    "np.zeros((3,4)) # define by row, column. Note double parentheses"
   ]
  },
  {
   "cell_type": "code",
   "execution_count": 54,
   "metadata": {},
   "outputs": [
    {
     "data": {
      "text/plain": [
       "array([[7, 7, 7, 7, 7],\n",
       "       [7, 7, 7, 7, 7]])"
      ]
     },
     "execution_count": 54,
     "metadata": {},
     "output_type": "execute_result"
    }
   ],
   "source": [
    "# fills a matrix with specified number\n",
    "np.full((2,5), 7) # creates a 2*5 matrix and makes each element a 7"
   ]
  },
  {
   "cell_type": "code",
   "execution_count": 55,
   "metadata": {},
   "outputs": [],
   "source": [
    "# create a matrix by hand. Note matrix is a collection of vectors inside a numpy.array\n",
    "M = np.array([[1,2,3],\n",
    "              [4,5,6],\n",
    "              [7,8,9]])"
   ]
  },
  {
   "cell_type": "code",
   "execution_count": 56,
   "metadata": {},
   "outputs": [
    {
     "data": {
      "text/plain": [
       "array([[1, 2, 3],\n",
       "       [4, 5, 6],\n",
       "       [7, 8, 9]])"
      ]
     },
     "execution_count": 56,
     "metadata": {},
     "output_type": "execute_result"
    }
   ],
   "source": [
    "M"
   ]
  },
  {
   "cell_type": "code",
   "execution_count": 57,
   "metadata": {},
   "outputs": [
    {
     "data": {
      "text/plain": [
       "numpy.ndarray"
      ]
     },
     "execution_count": 57,
     "metadata": {},
     "output_type": "execute_result"
    }
   ],
   "source": [
    "type(M)"
   ]
  },
  {
   "cell_type": "code",
   "execution_count": 58,
   "metadata": {},
   "outputs": [],
   "source": [
    "# assignment 6\n",
    "# create 3 matrices: M1) 2*2 M2) 2*2 M3) 3*2\n",
    "# These can be made up of random numbers\n",
    "# compute scalar matrix multiplication\n",
    "# add all pairs of matrices M1+M2, M1+M3, M2+M3"
   ]
  },
  {
   "cell_type": "code",
   "execution_count": 87,
   "metadata": {},
   "outputs": [],
   "source": [
    "# first, create function to return a random numpy vector of 1*2\n",
    "# Use these to build matrices in exercise\n",
    "def rndvec():\n",
    "    \"\"\"\n",
    "    returns a vector size (1x2) with numbers between 0 and 9 \n",
    "    \"\"\"\n",
    "    return(np.random.randint(10, size=2))"
   ]
  },
  {
   "cell_type": "code",
   "execution_count": 88,
   "metadata": {},
   "outputs": [
    {
     "data": {
      "text/plain": [
       "array([5, 3])"
      ]
     },
     "execution_count": 88,
     "metadata": {},
     "output_type": "execute_result"
    }
   ],
   "source": [
    "rndvec()"
   ]
  },
  {
   "cell_type": "code",
   "execution_count": 89,
   "metadata": {},
   "outputs": [],
   "source": [
    "# build matrices using the vector building blocks\n",
    "M1 = np.array([rndvec(), rndvec()])\n",
    "M2 = np.array([rndvec(), rndvec()])\n",
    "M3 = np.array([rndvec(), rndvec(), rndvec()])"
   ]
  },
  {
   "cell_type": "code",
   "execution_count": 90,
   "metadata": {},
   "outputs": [
    {
     "name": "stdout",
     "output_type": "stream",
     "text": [
      "M1 =\n",
      "[[2 7]\n",
      " [4 0]]\n",
      "M2 =\n",
      "[[3 2]\n",
      " [8 7]]\n",
      "M3 =\n",
      "[[3 9]\n",
      " [5 2]\n",
      " [5 6]]\n"
     ]
    }
   ],
   "source": [
    "# Display generated matrices\n",
    "print(\"M1 =\\n{}\".format(M1))\n",
    "print(\"M2 =\\n{}\".format(M2))\n",
    "print(\"M3 =\\n{}\".format(M3))"
   ]
  },
  {
   "cell_type": "code",
   "execution_count": 91,
   "metadata": {},
   "outputs": [
    {
     "name": "stdout",
     "output_type": "stream",
     "text": [
      "[[ 6 21]\n",
      " [12  0]]\n"
     ]
    }
   ],
   "source": [
    "# compute scalar matrix multiplication of matrix\n",
    "# scalar matrix multiplication\n",
    "M4 = 3 * M1\n",
    "print(M4)"
   ]
  },
  {
   "cell_type": "code",
   "execution_count": 92,
   "metadata": {},
   "outputs": [
    {
     "name": "stdout",
     "output_type": "stream",
     "text": [
      "[[ -5.  -17.5]\n",
      " [-10.   -0. ]]\n"
     ]
    }
   ],
   "source": [
    "M5 = -2.5 * M1\n",
    "print(M5)"
   ]
  },
  {
   "cell_type": "code",
   "execution_count": 93,
   "metadata": {},
   "outputs": [
    {
     "name": "stdout",
     "output_type": "stream",
     "text": [
      "[[0 0]\n",
      " [0 0]]\n"
     ]
    }
   ],
   "source": [
    "M6 = 0 * M1\n",
    "print(M6)"
   ]
  },
  {
   "cell_type": "code",
   "execution_count": 94,
   "metadata": {},
   "outputs": [
    {
     "data": {
      "text/plain": [
       "array([[ True,  True],\n",
       "       [ True,  True]])"
      ]
     },
     "execution_count": 94,
     "metadata": {},
     "output_type": "execute_result"
    }
   ],
   "source": [
    "# is it zero? - yes\n",
    "(M6 == 0)"
   ]
  },
  {
   "cell_type": "markdown",
   "metadata": {},
   "source": [
    "It is evident, that scalar multiplication multiplies each element in the matrix by the scaler, just like a vector."
   ]
  },
  {
   "cell_type": "code",
   "execution_count": 95,
   "metadata": {},
   "outputs": [
    {
     "name": "stdout",
     "output_type": "stream",
     "text": [
      "M1 + M2 =\n",
      "[[ 5  9]\n",
      " [12  7]]\n"
     ]
    },
    {
     "ename": "ValueError",
     "evalue": "operands could not be broadcast together with shapes (2,2) (3,2) ",
     "output_type": "error",
     "traceback": [
      "\u001b[0;31m---------------------------------------------------------------------------\u001b[0m",
      "\u001b[0;31mValueError\u001b[0m                                Traceback (most recent call last)",
      "\u001b[0;32m<ipython-input-95-128352cd7547>\u001b[0m in \u001b[0;36m<module>\u001b[0;34m\u001b[0m\n\u001b[1;32m      2\u001b[0m \u001b[0;31m# adding unequal size matrices results in an error, as shown below.\u001b[0m\u001b[0;34m\u001b[0m\u001b[0;34m\u001b[0m\u001b[0;34m\u001b[0m\u001b[0m\n\u001b[1;32m      3\u001b[0m \u001b[0mprint\u001b[0m\u001b[0;34m(\u001b[0m\u001b[0;34m\"M1 + M2 =\\n{}\"\u001b[0m\u001b[0;34m.\u001b[0m\u001b[0mformat\u001b[0m\u001b[0;34m(\u001b[0m\u001b[0mM1\u001b[0m\u001b[0;34m+\u001b[0m\u001b[0mM2\u001b[0m\u001b[0;34m)\u001b[0m\u001b[0;34m)\u001b[0m\u001b[0;34m\u001b[0m\u001b[0;34m\u001b[0m\u001b[0m\n\u001b[0;32m----> 4\u001b[0;31m \u001b[0mprint\u001b[0m\u001b[0;34m(\u001b[0m\u001b[0;34m\"M1 + M3 =\\n{}\"\u001b[0m\u001b[0;34m.\u001b[0m\u001b[0mformat\u001b[0m\u001b[0;34m(\u001b[0m\u001b[0mM1\u001b[0m\u001b[0;34m+\u001b[0m\u001b[0mM3\u001b[0m\u001b[0;34m)\u001b[0m\u001b[0;34m)\u001b[0m\u001b[0;34m\u001b[0m\u001b[0;34m\u001b[0m\u001b[0m\n\u001b[0m\u001b[1;32m      5\u001b[0m \u001b[0mprint\u001b[0m\u001b[0;34m(\u001b[0m\u001b[0;34m\"M2 + M3 =\\n{}\"\u001b[0m\u001b[0;34m.\u001b[0m\u001b[0mformat\u001b[0m\u001b[0;34m(\u001b[0m\u001b[0mM2\u001b[0m\u001b[0;34m+\u001b[0m\u001b[0mM3\u001b[0m\u001b[0;34m)\u001b[0m\u001b[0;34m)\u001b[0m\u001b[0;34m\u001b[0m\u001b[0;34m\u001b[0m\u001b[0m\n",
      "\u001b[0;31mValueError\u001b[0m: operands could not be broadcast together with shapes (2,2) (3,2) "
     ]
    }
   ],
   "source": [
    "# Matrix addition - only matrices that have the same sizes can be added together.\n",
    "# adding unequal size matrices results in an error, as shown below.\n",
    "print(\"M1 + M2 =\\n{}\".format(M1+M2))\n",
    "print(\"M1 + M3 =\\n{}\".format(M1+M3))\n",
    "print(\"M2 + M3 =\\n{}\".format(M2+M3))"
   ]
  },
  {
   "cell_type": "markdown",
   "metadata": {},
   "source": [
    "But adding matrices of equal size , the elements of each are added together."
   ]
  },
  {
   "cell_type": "markdown",
   "metadata": {},
   "source": [
    "### Transposing a vector\n",
    "#### converting a column vector into a row vector, or vice versa\n",
    "Does not change the elements or their order"
   ]
  },
  {
   "cell_type": "markdown",
   "metadata": {},
   "source": [
    "Transposing a matrix does the same e.g. 5x2 converts to 2x5"
   ]
  },
  {
   "cell_type": "markdown",
   "metadata": {},
   "source": [
    "#### A symmetrical matrix is equal to its transposition\n",
    "M = M<sup>T</sup>"
   ]
  },
  {
   "cell_type": "code",
   "execution_count": 104,
   "metadata": {},
   "outputs": [],
   "source": [
    "M = np.array([[2, 3, 4],\n",
    "              [3, 2, 5],\n",
    "              [4, 5, 2]])"
   ]
  },
  {
   "cell_type": "code",
   "execution_count": 108,
   "metadata": {},
   "outputs": [
    {
     "name": "stdout",
     "output_type": "stream",
     "text": [
      "[[2 3 4]\n",
      " [3 2 5]\n",
      " [4 5 2]]\n"
     ]
    }
   ],
   "source": [
    "print(M)"
   ]
  },
  {
   "cell_type": "code",
   "execution_count": 107,
   "metadata": {},
   "outputs": [
    {
     "name": "stdout",
     "output_type": "stream",
     "text": [
      "[[2 3 4]\n",
      " [3 2 5]\n",
      " [4 5 2]]\n"
     ]
    }
   ],
   "source": [
    "# Transpose Matrix\n",
    "print(M.T)"
   ]
  },
  {
   "cell_type": "code",
   "execution_count": 109,
   "metadata": {},
   "outputs": [
    {
     "data": {
      "text/plain": [
       "array([[ True,  True,  True],\n",
       "       [ True,  True,  True],\n",
       "       [ True,  True,  True]])"
      ]
     },
     "execution_count": 109,
     "metadata": {},
     "output_type": "execute_result"
    }
   ],
   "source": [
    "# Are they identical? True\n",
    "(M == M.T)"
   ]
  },
  {
   "cell_type": "code",
   "execution_count": 99,
   "metadata": {},
   "outputs": [
    {
     "name": "stdout",
     "output_type": "stream",
     "text": [
      "[ 2  3 -1]\n",
      "[ 2  3 -1]\n"
     ]
    }
   ],
   "source": [
    "# Transposition of a vector may not give outward results\n",
    "v1 = np.array([2, 3, -1])\n",
    "print(v1)\n",
    "print(v1.T) # transposition"
   ]
  },
  {
   "cell_type": "code",
   "execution_count": 103,
   "metadata": {},
   "outputs": [
    {
     "name": "stdout",
     "output_type": "stream",
     "text": [
      "[[ 2  3 -1]]\n",
      "\n",
      "[[ 2]\n",
      " [ 3]\n",
      " [-1]]\n"
     ]
    }
   ],
   "source": [
    "# Python does not differentiate internally between row and column vectors\n",
    "# so specify 2 dimensions (ndmin=2)\n",
    "v1 = np.array([2, 3, -1], ndmin=2) # i.e becomes a 1*3 matrix\n",
    "print(v1)\n",
    "print()\n",
    "print(v1.T) # 3*1 matrix"
   ]
  },
  {
   "cell_type": "markdown",
   "metadata": {},
   "source": [
    "#### Transposition of matrix"
   ]
  },
  {
   "cell_type": "code",
   "execution_count": 110,
   "metadata": {},
   "outputs": [
    {
     "name": "stdout",
     "output_type": "stream",
     "text": [
      "[[ 0.15580693  1.3214404   0.72226722]\n",
      " [-1.02694775  0.04074232 -0.28278828]\n",
      " [-1.65057857 -0.38926271  1.624956  ]]\n"
     ]
    }
   ],
   "source": [
    "M = np.random.randn(3,3) # generate normally distributed numbers mean 0, SD 1\n",
    "print(M)"
   ]
  },
  {
   "cell_type": "code",
   "execution_count": 111,
   "metadata": {},
   "outputs": [],
   "source": [
    "M = np.round(10 * np.random.randn(3,3)) # 3*3 matrix between -20 and 20"
   ]
  },
  {
   "cell_type": "code",
   "execution_count": 113,
   "metadata": {},
   "outputs": [
    {
     "name": "stdout",
     "output_type": "stream",
     "text": [
      "[[  3.   1. -17.]\n",
      " [ -1.  -3.   3.]\n",
      " [ -5.   1.   8.]]\n",
      "\n",
      "[[  3.  -1.  -5.]\n",
      " [  1.  -3.   1.]\n",
      " [-17.   3.   8.]]\n"
     ]
    }
   ],
   "source": [
    "# transpose matrix\n",
    "print(M)\n",
    "print()\n",
    "print(M.T)"
   ]
  },
  {
   "cell_type": "code",
   "execution_count": 114,
   "metadata": {},
   "outputs": [],
   "source": [
    "# assignment 7\n",
    "# what happens when a matrix is transposed twice? e.g. M and MT. Transpose MT. How do they relate?\n",
    "# confirm that the transpose operation works on rectangular (i.e. non-square) matrices"
   ]
  },
  {
   "cell_type": "code",
   "execution_count": 115,
   "metadata": {},
   "outputs": [],
   "source": [
    "# we already have M, as defined above.\n",
    "# define transposed M\n",
    "Mt = M.T"
   ]
  },
  {
   "cell_type": "code",
   "execution_count": 116,
   "metadata": {},
   "outputs": [
    {
     "name": "stdout",
     "output_type": "stream",
     "text": [
      "[[  3.   1. -17.]\n",
      " [ -1.  -3.   3.]\n",
      " [ -5.   1.   8.]]\n"
     ]
    }
   ],
   "source": [
    "# transpose M twice\n",
    "Mt2 = Mt.T\n",
    "print(Mt2)"
   ]
  },
  {
   "cell_type": "code",
   "execution_count": 117,
   "metadata": {},
   "outputs": [
    {
     "data": {
      "text/plain": [
       "array([[ True,  True,  True],\n",
       "       [ True,  True,  True],\n",
       "       [ True,  True,  True]])"
      ]
     },
     "execution_count": 117,
     "metadata": {},
     "output_type": "execute_result"
    }
   ],
   "source": [
    "# Is M identical to its double transposition - Yes\n",
    "(Mt2 == M)"
   ]
  },
  {
   "cell_type": "markdown",
   "metadata": {},
   "source": [
    "Thus, transposition an even number of times results in the original matrix.\n",
    "And odd number of times reveals its reciprocal transposition."
   ]
  },
  {
   "cell_type": "code",
   "execution_count": 118,
   "metadata": {},
   "outputs": [
    {
     "name": "stdout",
     "output_type": "stream",
     "text": [
      "[[3 9]\n",
      " [5 2]\n",
      " [5 6]]\n"
     ]
    }
   ],
   "source": [
    "# Confirm that rectangular matrix can transpose\n",
    "# Original matrix from assignment 5\n",
    "print(M3)"
   ]
  },
  {
   "cell_type": "code",
   "execution_count": 119,
   "metadata": {},
   "outputs": [
    {
     "name": "stdout",
     "output_type": "stream",
     "text": [
      "[[3 5 5]\n",
      " [9 2 6]]\n"
     ]
    }
   ],
   "source": [
    "print(M3.T) # transpose"
   ]
  },
  {
   "cell_type": "code",
   "execution_count": 120,
   "metadata": {},
   "outputs": [
    {
     "name": "stdout",
     "output_type": "stream",
     "text": [
      "[[3 9]\n",
      " [5 2]\n",
      " [5 6]]\n"
     ]
    }
   ],
   "source": [
    "print((M3.T).T) # transposition of transposition - is the same"
   ]
  },
  {
   "cell_type": "code",
   "execution_count": 121,
   "metadata": {},
   "outputs": [
    {
     "data": {
      "text/plain": [
       "array([[ True,  True],\n",
       "       [ True,  True],\n",
       "       [ True,  True]])"
      ]
     },
     "execution_count": 121,
     "metadata": {},
     "output_type": "execute_result"
    }
   ],
   "source": [
    "(M3 == (M3.T).T)"
   ]
  },
  {
   "cell_type": "markdown",
   "metadata": {},
   "source": [
    "### Standard Matrix Multiplication\n",
    "Not all matrices can be multiplied"
   ]
  },
  {
   "cell_type": "markdown",
   "metadata": {},
   "source": [
    "#### If 2 matrices, A and B are mutiplied\n",
    "A left-multiplies (pre-multiplies) B\n",
    "\n",
    "B right-multiplies (post-multiplies) A"
   ]
  },
  {
   "cell_type": "markdown",
   "metadata": {},
   "source": [
    "#### Matrix A * Matrix B is not the same as Matrix B * Matrix A , thus not commutative"
   ]
  },
  {
   "cell_type": "markdown",
   "metadata": {},
   "source": [
    "### Rules for Validity of Matrix Multiplication"
   ]
  },
  {
   "cell_type": "markdown",
   "metadata": {},
   "source": [
    "#### 1) Note the sizes of the respective matrices:\n",
    "1st Matrix: M Rows x <b>N</b> Columns\n",
    "2nd Matrix: <b>N</b> Rows x K Columns\n",
    "#### 2) if the number of columns in the 1st matrix is the same as the rows in the 2nd matrix (i.e. N is the same)\n",
    "then matrices can be multiplied"
   ]
  },
  {
   "cell_type": "markdown",
   "metadata": {},
   "source": [
    "#### 3) Size of resulting Matrix\n",
    "<b>M</b> rows x <b>K</b> Columns"
   ]
  },
  {
   "cell_type": "code",
   "execution_count": 123,
   "metadata": {},
   "outputs": [],
   "source": [
    "# Example of Valid Multiplication\n",
    "A = np.random.randint(10, size=(5,2))\n",
    "B = np.random.randint(10, size=(2,7))"
   ]
  },
  {
   "cell_type": "code",
   "execution_count": 125,
   "metadata": {},
   "outputs": [
    {
     "name": "stdout",
     "output_type": "stream",
     "text": [
      "[[5 5]\n",
      " [5 1]\n",
      " [7 6]\n",
      " [3 4]\n",
      " [3 6]]\n"
     ]
    }
   ],
   "source": [
    "print(A)"
   ]
  },
  {
   "cell_type": "code",
   "execution_count": 126,
   "metadata": {},
   "outputs": [
    {
     "name": "stdout",
     "output_type": "stream",
     "text": [
      "[[1 2 5 6 1 7 9]\n",
      " [0 4 4 0 4 5 6]]\n"
     ]
    }
   ],
   "source": [
    "print(B)"
   ]
  },
  {
   "cell_type": "code",
   "execution_count": 129,
   "metadata": {},
   "outputs": [
    {
     "name": "stdout",
     "output_type": "stream",
     "text": [
      "[[ 5 30 45 30 25 60 75]\n",
      " [ 5 14 29 30  9 40 51]\n",
      " [ 7 38 59 42 31 79 99]\n",
      " [ 3 22 31 18 19 41 51]\n",
      " [ 3 30 39 18 27 51 63]]\n"
     ]
    }
   ],
   "source": [
    "# Numpy multiplication -  matrix size 5 * 7\n",
    "print( np.matmul(A,B))"
   ]
  },
  {
   "cell_type": "code",
   "execution_count": 130,
   "metadata": {},
   "outputs": [],
   "source": [
    "# Can transpose one matrix to match the inner dimensions\n",
    "C = np.random.randint(10, size=(4,5))\n",
    "D = np.random.randint(10, size=(4,5))"
   ]
  },
  {
   "cell_type": "code",
   "execution_count": 131,
   "metadata": {},
   "outputs": [
    {
     "ename": "ValueError",
     "evalue": "matmul: Input operand 1 has a mismatch in its core dimension 0, with gufunc signature (n?,k),(k,m?)->(n?,m?) (size 4 is different from 5)",
     "output_type": "error",
     "traceback": [
      "\u001b[0;31m---------------------------------------------------------------------------\u001b[0m",
      "\u001b[0;31mValueError\u001b[0m                                Traceback (most recent call last)",
      "\u001b[0;32m<ipython-input-131-18d41bc79238>\u001b[0m in \u001b[0;36m<module>\u001b[0;34m\u001b[0m\n\u001b[1;32m      1\u001b[0m \u001b[0;31m# Because straight multiplication will result in an error\u001b[0m\u001b[0;34m\u001b[0m\u001b[0;34m\u001b[0m\u001b[0;34m\u001b[0m\u001b[0m\n\u001b[0;32m----> 2\u001b[0;31m \u001b[0mprint\u001b[0m\u001b[0;34m(\u001b[0m\u001b[0mnp\u001b[0m\u001b[0;34m.\u001b[0m\u001b[0mmatmul\u001b[0m\u001b[0;34m(\u001b[0m\u001b[0mC\u001b[0m\u001b[0;34m,\u001b[0m\u001b[0mD\u001b[0m\u001b[0;34m)\u001b[0m\u001b[0;34m)\u001b[0m\u001b[0;34m\u001b[0m\u001b[0;34m\u001b[0m\u001b[0m\n\u001b[0m",
      "\u001b[0;31mValueError\u001b[0m: matmul: Input operand 1 has a mismatch in its core dimension 0, with gufunc signature (n?,k),(k,m?)->(n?,m?) (size 4 is different from 5)"
     ]
    }
   ],
   "source": [
    "# Because straight multiplication will result in an error\n",
    "print(np.matmul(C,D))"
   ]
  },
  {
   "cell_type": "code",
   "execution_count": 132,
   "metadata": {},
   "outputs": [
    {
     "name": "stdout",
     "output_type": "stream",
     "text": [
      "[[100 136  97 173 112]\n",
      " [ 38 130  96 128  84]\n",
      " [ 99 100  39 151 127]\n",
      " [ 70 106  59 127  96]\n",
      " [ 42 113  85 121  79]]\n"
     ]
    }
   ],
   "source": [
    "# So transpose one matrix and multiply:\n",
    "print(np.matmul(C.T,D))"
   ]
  },
  {
   "cell_type": "code",
   "execution_count": 135,
   "metadata": {},
   "outputs": [
    {
     "name": "stdout",
     "output_type": "stream",
     "text": [
      "[[100 136  97 173 112]\n",
      " [ 38 130  96 128  84]\n",
      " [ 99 100  39 151 127]\n",
      " [ 70 106  59 127  96]\n",
      " [ 42 113  85 121  79]]\n"
     ]
    }
   ],
   "source": [
    "#Shorthand way of multiplying matrices\n",
    "print(C.T@D)"
   ]
  },
  {
   "cell_type": "code",
   "execution_count": 136,
   "metadata": {},
   "outputs": [],
   "source": [
    "# assignment 8\n",
    "# create a 3x3 matrix of integers\n",
    "# multiply that matrix by:\n",
    "# i) 3x3 identity matrix\n",
    "# ii) 3x3 zeros matrix\n",
    "# iii) the transposition"
   ]
  },
  {
   "cell_type": "code",
   "execution_count": 137,
   "metadata": {},
   "outputs": [
    {
     "data": {
      "text/plain": [
       "array([[41, 87, 10],\n",
       "       [97, 38, 37],\n",
       "       [95,  0, 17]])"
      ]
     },
     "execution_count": 137,
     "metadata": {},
     "output_type": "execute_result"
    }
   ],
   "source": [
    "# create 3x3 matrix of integers\n",
    "E = np.random.randint(100, size=(3,3))\n",
    "E"
   ]
  },
  {
   "cell_type": "code",
   "execution_count": 138,
   "metadata": {},
   "outputs": [
    {
     "data": {
      "text/plain": [
       "array([[1., 0., 0.],\n",
       "       [0., 1., 0.],\n",
       "       [0., 0., 1.]])"
      ]
     },
     "execution_count": 138,
     "metadata": {},
     "output_type": "execute_result"
    }
   ],
   "source": [
    "# Identity Matrix\n",
    "F = np.eye(3)\n",
    "F"
   ]
  },
  {
   "cell_type": "code",
   "execution_count": 141,
   "metadata": {},
   "outputs": [
    {
     "data": {
      "text/plain": [
       "array([[0., 0., 0.],\n",
       "       [0., 0., 0.],\n",
       "       [0., 0., 0.]])"
      ]
     },
     "execution_count": 141,
     "metadata": {},
     "output_type": "execute_result"
    }
   ],
   "source": [
    "# zeros Matrix\n",
    "G = np.zeros((3,3))\n",
    "G"
   ]
  },
  {
   "cell_type": "code",
   "execution_count": 142,
   "metadata": {},
   "outputs": [
    {
     "name": "stdout",
     "output_type": "stream",
     "text": [
      "[[41. 87. 10.]\n",
      " [97. 38. 37.]\n",
      " [95.  0. 17.]]\n"
     ]
    }
   ],
   "source": [
    "# Multiply matrix with Identity Matrix - no change\n",
    "print(E@F)"
   ]
  },
  {
   "cell_type": "code",
   "execution_count": 143,
   "metadata": {},
   "outputs": [
    {
     "data": {
      "text/plain": [
       "array([[ True,  True,  True],\n",
       "       [ True,  True,  True],\n",
       "       [ True,  True,  True]])"
      ]
     },
     "execution_count": 143,
     "metadata": {},
     "output_type": "execute_result"
    }
   ],
   "source": [
    "# no change confirmed\n",
    "(E == E@F)"
   ]
  },
  {
   "cell_type": "code",
   "execution_count": 144,
   "metadata": {},
   "outputs": [
    {
     "name": "stdout",
     "output_type": "stream",
     "text": [
      "[[0. 0. 0.]\n",
      " [0. 0. 0.]\n",
      " [0. 0. 0.]]\n"
     ]
    }
   ],
   "source": [
    "# Multiply matrix with Zeros matrix\n",
    "print(E@G)"
   ]
  },
  {
   "cell_type": "code",
   "execution_count": 145,
   "metadata": {},
   "outputs": [
    {
     "name": "stdout",
     "output_type": "stream",
     "text": [
      "[[ 9350  7653  4065]\n",
      " [ 7653 12222  9844]\n",
      " [ 4065  9844  9314]]\n"
     ]
    }
   ],
   "source": [
    "# Multiply with its transposition - results in a symmetrical matrix\n",
    "print(E@E.T)"
   ]
  },
  {
   "cell_type": "markdown",
   "metadata": {},
   "source": [
    "### Scalar Inverse"
   ]
  },
  {
   "cell_type": "code",
   "execution_count": null,
   "metadata": {},
   "outputs": [],
   "source": []
  }
 ],
 "metadata": {
  "kernelspec": {
   "display_name": "Python 3",
   "language": "python",
   "name": "python3"
  },
  "language_info": {
   "codemirror_mode": {
    "name": "ipython",
    "version": 3
   },
   "file_extension": ".py",
   "mimetype": "text/x-python",
   "name": "python",
   "nbconvert_exporter": "python",
   "pygments_lexer": "ipython3",
   "version": "3.9.0"
  }
 },
 "nbformat": 4,
 "nbformat_minor": 4
}
